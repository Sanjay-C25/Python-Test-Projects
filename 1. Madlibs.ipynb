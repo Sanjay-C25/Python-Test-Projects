{
 "cells": [
  {
   "cell_type": "code",
   "execution_count": 1,
   "id": "02aae3bc",
   "metadata": {},
   "outputs": [
    {
     "name": "stdout",
     "output_type": "stream",
     "text": [
      "Subscribe to My Channel\n",
      "Subscribe to My Channel\n",
      "Subscribe to My Channel\n"
     ]
    }
   ],
   "source": [
    "# string concatenation\n",
    "# suppose we want to create a string which says Subscribe to _______\n",
    "\n",
    "youtuber = \"My Channel\"\n",
    "\n",
    "# a few ways to do this\n",
    "print(\"Subscribe to \" + youtuber)\n",
    "print(\"Subscribe to {}\".format(youtuber))\n",
    "print(f\"Subscribe to {youtuber}\")\n"
   ]
  },
  {
   "cell_type": "code",
   "execution_count": 2,
   "id": "cec1e084",
   "metadata": {},
   "outputs": [
    {
     "name": "stdout",
     "output_type": "stream",
     "text": [
      "Adjective : amazing\n",
      "Verb1 : skydive\n",
      "Verb2 : jump\n",
      "Famous Person : Captain America\n",
      "Computer program is so amazing! It makes me so excited all the time because I love to skydive. Stay hydrated and jump like you are Captain America!\n"
     ]
    }
   ],
   "source": [
    "adj = input(\"Adjective : \")\n",
    "verb1 = input(\"Verb1 : \")\n",
    "verb2 = input(\"Verb2 : \")\n",
    "famous_person = input(\"Famous Person : \")\n",
    "\n",
    "madlib = f\"Computer program is so {adj}! It makes me so excited all the time because \\\n",
    "I love to {verb1}. Stay hydrated and {verb2} like you are {famous_person}!\"\n",
    "\n",
    "print(madlib)"
   ]
  },
  {
   "cell_type": "code",
   "execution_count": null,
   "id": "543f931a",
   "metadata": {},
   "outputs": [],
   "source": []
  }
 ],
 "metadata": {
  "kernelspec": {
   "display_name": "Python 3",
   "language": "python",
   "name": "python3"
  },
  "language_info": {
   "codemirror_mode": {
    "name": "ipython",
    "version": 3
   },
   "file_extension": ".py",
   "mimetype": "text/x-python",
   "name": "python",
   "nbconvert_exporter": "python",
   "pygments_lexer": "ipython3",
   "version": "3.8.8"
  }
 },
 "nbformat": 4,
 "nbformat_minor": 5
}
