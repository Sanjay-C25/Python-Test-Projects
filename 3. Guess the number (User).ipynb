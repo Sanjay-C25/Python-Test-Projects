{
 "cells": [
  {
   "cell_type": "code",
   "execution_count": 1,
   "id": "a7b114f4",
   "metadata": {},
   "outputs": [],
   "source": [
    "import random"
   ]
  },
  {
   "cell_type": "code",
   "execution_count": 5,
   "id": "6fd33fb2",
   "metadata": {},
   "outputs": [],
   "source": [
    "def computer_guess(x) :\n",
    "    low = 1\n",
    "    high = x\n",
    "    feedback = ''\n",
    "    while feedback != 'c' :\n",
    "        if low != high :\n",
    "            guess_number = random.randint(low, high)\n",
    "        else :\n",
    "             guess_number = low # could also be high as low = high   \n",
    "        feedback = input(f'Is {guess_number} too high (H), too low (L) or correct (C) ?? ').lower()\n",
    "        if feedback == 'h':\n",
    "            high = guess_number - 1\n",
    "        if feedback == 'l':\n",
    "            low = guess_number + 1 \n",
    "    print(f'Yay! The computer guessed your number {guess_number} correctly!')"
   ]
  },
  {
   "cell_type": "code",
   "execution_count": 3,
   "id": "6b714bbc",
   "metadata": {},
   "outputs": [
    {
     "name": "stdout",
     "output_type": "stream",
     "text": [
      "Is 8 too high (H), too low (L) or correct (C) ??h\n",
      "Is 6 too high (H), too low (L) or correct (C) ??h\n",
      "Is 2 too high (H), too low (L) or correct (C) ??l\n",
      "Is 5 too high (H), too low (L) or correct (C) ??h\n",
      "Is 4 too high (H), too low (L) or correct (C) ??h\n",
      "Is 3 too high (H), too low (L) or correct (C) ??c\n",
      "Yay! The computer guessed your number 3 correctly!\n"
     ]
    }
   ],
   "source": [
    "computer_guess(10)"
   ]
  },
  {
   "cell_type": "code",
   "execution_count": 6,
   "id": "b7c95aa8",
   "metadata": {},
   "outputs": [
    {
     "name": "stdout",
     "output_type": "stream",
     "text": [
      "Is 1 too high (H), too low (L) or correct (C) ?? L\n",
      "Is 10 too high (H), too low (L) or correct (C) ?? H\n",
      "Is 6 too high (H), too low (L) or correct (C) ?? H\n",
      "Is 3 too high (H), too low (L) or correct (C) ?? L\n",
      "Is 4 too high (H), too low (L) or correct (C) ?? L\n",
      "Is 5 too high (H), too low (L) or correct (C) ?? C\n",
      "Yay! The computer guessed your number 5 correctly!\n"
     ]
    }
   ],
   "source": [
    "computer_guess(10)"
   ]
  },
  {
   "cell_type": "code",
   "execution_count": null,
   "id": "37157f5e",
   "metadata": {},
   "outputs": [],
   "source": []
  }
 ],
 "metadata": {
  "kernelspec": {
   "display_name": "Python 3",
   "language": "python",
   "name": "python3"
  },
  "language_info": {
   "codemirror_mode": {
    "name": "ipython",
    "version": 3
   },
   "file_extension": ".py",
   "mimetype": "text/x-python",
   "name": "python",
   "nbconvert_exporter": "python",
   "pygments_lexer": "ipython3",
   "version": "3.8.8"
  }
 },
 "nbformat": 4,
 "nbformat_minor": 5
}
