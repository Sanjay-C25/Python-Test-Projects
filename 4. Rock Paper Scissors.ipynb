{
 "cells": [
  {
   "cell_type": "code",
   "execution_count": 1,
   "id": "2a545e8a",
   "metadata": {},
   "outputs": [],
   "source": [
    "import random"
   ]
  },
  {
   "cell_type": "code",
   "execution_count": 6,
   "id": "1d3d661f",
   "metadata": {},
   "outputs": [],
   "source": [
    "def is_win(player, opponent):\n",
    "    # return true if player wins\n",
    "    # r > s, s > p, p > r\n",
    "    if (player == 'r' and opponent == 's') or (player == 's' and opponent == 'p') \\\n",
    "        or (player == 'p' and opponent == 'r'):\n",
    "        return True\n",
    "    "
   ]
  },
  {
   "cell_type": "code",
   "execution_count": 10,
   "id": "0dc1f3da",
   "metadata": {},
   "outputs": [],
   "source": [
    "def play():\n",
    "    print(\"Basic rules: r > s, s > p, p > r \")\n",
    "    user = input(\"What's your choice? 'r' for rock, 'p' for paper, 's' for scissors \\n\")\n",
    "    computer = random.choice(['r','p','s'])\n",
    "    print(f\"Computer's choice : {computer}\")\n",
    "    \n",
    "    if user == computer:\n",
    "        return 'It\\'s a tie'\n",
    "    \n",
    "    if is_win(user, computer):\n",
    "        return 'You won!'\n",
    "    \n",
    "    return 'You Lost!'\n"
   ]
  },
  {
   "cell_type": "code",
   "execution_count": 11,
   "id": "289d73ae",
   "metadata": {},
   "outputs": [
    {
     "name": "stdout",
     "output_type": "stream",
     "text": [
      "Basic rules: r > s, s > p, p > r \n",
      "What's your choice? 'r' for rock, 'p' for paper, 's' for scissors \n",
      "r\n",
      "Computer's choice : p\n",
      "You Lost!\n"
     ]
    }
   ],
   "source": [
    "print(play())"
   ]
  },
  {
   "cell_type": "code",
   "execution_count": 16,
   "id": "a46a3885",
   "metadata": {},
   "outputs": [],
   "source": [
    "def play_v2():\n",
    "    print(\"Basic rules: r > s, s > p, p > r \")\n",
    "    user_score = 0\n",
    "    computer_score = 0\n",
    "    while user_score != 5 and computer_score != 5:\n",
    "        user = input(\"What's your choice? 'r' for rock, 'p' for paper, 's' for scissors \\n\")\n",
    "        computer = random.choice(['r','p','s'])\n",
    "        print(f\"Computer's choice : {computer}\")\n",
    "        if user == computer:\n",
    "            print( 'It\\'s a tie this round')\n",
    "        else:\n",
    "            if is_win(user, computer):\n",
    "                user_score+=1\n",
    "                print( 'You won this round!')\n",
    "            else:\n",
    "                computer_score+=1\n",
    "                print( 'You Lost this round!')\n",
    "        print(f\"Score Update. User : {user_score} and Computer : {computer_score} \")\n",
    "    \n",
    "    if user_score == 5:\n",
    "        return 'You won the match!'\n",
    "    else:\n",
    "        return 'You lost the match!'"
   ]
  },
  {
   "cell_type": "code",
   "execution_count": 17,
   "id": "858719ba",
   "metadata": {},
   "outputs": [
    {
     "name": "stdout",
     "output_type": "stream",
     "text": [
      "Basic rules: r > s, s > p, p > r \n",
      "What's your choice? 'r' for rock, 'p' for paper, 's' for scissors \n",
      "p\n",
      "Computer's choice : p\n",
      "It's a tie this round\n",
      "Score Update. User : 0 and Computer : 0 \n",
      "What's your choice? 'r' for rock, 'p' for paper, 's' for scissors \n",
      "s\n",
      "Computer's choice : p\n",
      "You won this round!\n",
      "Score Update. User : 1 and Computer : 0 \n",
      "What's your choice? 'r' for rock, 'p' for paper, 's' for scissors \n",
      "s\n",
      "Computer's choice : p\n",
      "You won this round!\n",
      "Score Update. User : 2 and Computer : 0 \n",
      "What's your choice? 'r' for rock, 'p' for paper, 's' for scissors \n",
      "p\n",
      "Computer's choice : s\n",
      "You Lost this round!\n",
      "Score Update. User : 2 and Computer : 1 \n",
      "What's your choice? 'r' for rock, 'p' for paper, 's' for scissors \n",
      "s\n",
      "Computer's choice : p\n",
      "You won this round!\n",
      "Score Update. User : 3 and Computer : 1 \n",
      "What's your choice? 'r' for rock, 'p' for paper, 's' for scissors \n",
      "r\n",
      "Computer's choice : r\n",
      "It's a tie this round\n",
      "Score Update. User : 3 and Computer : 1 \n",
      "What's your choice? 'r' for rock, 'p' for paper, 's' for scissors \n",
      "r\n",
      "Computer's choice : p\n",
      "You Lost this round!\n",
      "Score Update. User : 3 and Computer : 2 \n",
      "What's your choice? 'r' for rock, 'p' for paper, 's' for scissors \n",
      "r\n",
      "Computer's choice : s\n",
      "You won this round!\n",
      "Score Update. User : 4 and Computer : 2 \n",
      "What's your choice? 'r' for rock, 'p' for paper, 's' for scissors \n",
      "r\n",
      "Computer's choice : r\n",
      "It's a tie this round\n",
      "Score Update. User : 4 and Computer : 2 \n",
      "What's your choice? 'r' for rock, 'p' for paper, 's' for scissors \n",
      "r\n",
      "Computer's choice : s\n",
      "You won this round!\n",
      "Score Update. User : 5 and Computer : 2 \n",
      "You won the match!\n"
     ]
    }
   ],
   "source": [
    "print(play_v2())"
   ]
  },
  {
   "cell_type": "code",
   "execution_count": null,
   "id": "ed741778",
   "metadata": {},
   "outputs": [],
   "source": []
  }
 ],
 "metadata": {
  "kernelspec": {
   "display_name": "Python 3",
   "language": "python",
   "name": "python3"
  },
  "language_info": {
   "codemirror_mode": {
    "name": "ipython",
    "version": 3
   },
   "file_extension": ".py",
   "mimetype": "text/x-python",
   "name": "python",
   "nbconvert_exporter": "python",
   "pygments_lexer": "ipython3",
   "version": "3.8.8"
  }
 },
 "nbformat": 4,
 "nbformat_minor": 5
}
