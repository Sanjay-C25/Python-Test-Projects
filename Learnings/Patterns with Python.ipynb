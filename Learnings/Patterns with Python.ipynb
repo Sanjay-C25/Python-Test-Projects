{
 "cells": [
  {
   "cell_type": "code",
   "execution_count": 7,
   "id": "803a0c3a",
   "metadata": {},
   "outputs": [
    {
     "name": "stdout",
     "output_type": "stream",
     "text": [
      "*\n",
      "**\n",
      "***\n",
      "****\n",
      "*****\n",
      "******\n",
      "*******\n",
      "********\n",
      "*********\n",
      "**********\n",
      "*********\n",
      "********\n",
      "*******\n",
      "******\n",
      "*****\n",
      "****\n",
      "***\n",
      "**\n",
      "*\n"
     ]
    }
   ],
   "source": [
    "line = '*'\n",
    "max_length = 10\n",
    "\n",
    "while len(line) < max_length:\n",
    "    print(line)\n",
    "    line += \"*\"\n",
    "    \n",
    "while len(line) > 0:\n",
    "    print(line)\n",
    "    line = line[:-1]"
   ]
  },
  {
   "cell_type": "code",
   "execution_count": 8,
   "id": "a1d6cfbd",
   "metadata": {},
   "outputs": [
    {
     "name": "stdout",
     "output_type": "stream",
     "text": [
      "     *\n",
      "    **\n",
      "   ***\n",
      "  ****\n",
      " *****\n",
      "******\n",
      " *****\n",
      "  ****\n",
      "   ***\n",
      "    **\n",
      "     *\n"
     ]
    }
   ],
   "source": [
    "line = [' ',' ',' ',' ',' ','*']\n",
    "#line = \"     *\"\n",
    "max_length = 6\n",
    "i=1\n",
    "while i<=max_length:\n",
    "    print(''.join(line))\n",
    "    i+=1\n",
    "    if i<=max_length:\n",
    "        line[-i]='*'\n",
    "#print(line)\n",
    "j=0\n",
    "while j<max_length-1:\n",
    "    line[j]=' '\n",
    "    print(''.join(line))\n",
    "    j+=1"
   ]
  },
  {
   "cell_type": "code",
   "execution_count": 1,
   "id": "6ebf6770",
   "metadata": {},
   "outputs": [
    {
     "name": "stdout",
     "output_type": "stream",
     "text": [
      "*\n",
      "**\n",
      "***\n",
      "****\n",
      "*****\n"
     ]
    }
   ],
   "source": [
    "#upward left half pyramid\n",
    "for i in range(5):\n",
    "    for j in range(i+1):\n",
    "        print('*',end='')\n",
    "    print()"
   ]
  },
  {
   "cell_type": "code",
   "execution_count": 2,
   "id": "c137bc5a",
   "metadata": {},
   "outputs": [
    {
     "name": "stdout",
     "output_type": "stream",
     "text": [
      "*****\n",
      "****\n",
      "***\n",
      "**\n",
      "*\n"
     ]
    }
   ],
   "source": [
    "# downward left half pyramid\n",
    "for i in range(5):\n",
    "    for j in range(i,5):\n",
    "        print('*',end='')\n",
    "    print()"
   ]
  },
  {
   "cell_type": "code",
   "execution_count": 3,
   "id": "629bb7d0",
   "metadata": {},
   "outputs": [
    {
     "name": "stdout",
     "output_type": "stream",
     "text": [
      "    *\n",
      "   **\n",
      "  ***\n",
      " ****\n",
      "*****\n"
     ]
    }
   ],
   "source": [
    "# upward right half pyramid\n",
    "for i in range(5):\n",
    "    for j in range(i+1,5):\n",
    "        print(' ', end='')\n",
    "    for j in range(i+1):\n",
    "        print('*', end='')\n",
    "    print()"
   ]
  },
  {
   "cell_type": "code",
   "execution_count": 4,
   "id": "9c55d2ba",
   "metadata": {},
   "outputs": [
    {
     "name": "stdout",
     "output_type": "stream",
     "text": [
      "*****\n",
      " ****\n",
      "  ***\n",
      "   **\n",
      "    *\n"
     ]
    }
   ],
   "source": [
    "# downward right half pyramid\n",
    "for i in range(5):\n",
    "    for j in range(i):\n",
    "        print(' ', end='')\n",
    "    for j in range(i,5):\n",
    "        print('*', end='')\n",
    "    print()"
   ]
  },
  {
   "cell_type": "code",
   "execution_count": 5,
   "id": "1e5dd262",
   "metadata": {},
   "outputs": [
    {
     "name": "stdout",
     "output_type": "stream",
     "text": [
      "     *\n",
      "    ***\n",
      "   *****\n",
      "  *******\n",
      " *********\n"
     ]
    }
   ],
   "source": [
    "# upward whole pyramid\n",
    "for i in range(5):\n",
    "    for j in range(i,5):\n",
    "        print(' ', end='')\n",
    "    for j in range(i+1):\n",
    "        print('*', end='')\n",
    "    for j in range(i):\n",
    "        print('*', end='')\n",
    "    print()"
   ]
  },
  {
   "cell_type": "code",
   "execution_count": 6,
   "id": "e07d5f42",
   "metadata": {},
   "outputs": [
    {
     "name": "stdout",
     "output_type": "stream",
     "text": [
      " *********\n",
      "  *******\n",
      "   *****\n",
      "    ***\n",
      "     *\n"
     ]
    }
   ],
   "source": [
    "# downward whole pyramid\n",
    "for i in range(5):\n",
    "    for j in range(i+1):\n",
    "        print(' ', end='')\n",
    "    for j in range(i,5):\n",
    "        print('*', end='')\n",
    "    for j in range(i+1,5):\n",
    "        print('*', end='')\n",
    "    print()"
   ]
  },
  {
   "cell_type": "code",
   "execution_count": 9,
   "id": "16e55e92",
   "metadata": {},
   "outputs": [
    {
     "name": "stdout",
     "output_type": "stream",
     "text": [
      "     *\n",
      "    ***\n",
      "   *****\n",
      "  *******\n",
      " *********\n",
      "  *******\n",
      "   *****\n",
      "    ***\n",
      "     *\n",
      "      \n"
     ]
    }
   ],
   "source": [
    "# diamond pattern\n",
    "for i in range(5):\n",
    "    for j in range(i,5):\n",
    "        print(' ', end='')\n",
    "    for j in range(i+1):\n",
    "        print('*', end='')\n",
    "    for j in range(i):\n",
    "        print('*', end='')\n",
    "    print()\n",
    "for i in range(5):\n",
    "    for j in range(i+2):\n",
    "        print(' ', end='')\n",
    "    for j in range(i+1,5):\n",
    "        print('*', end='')\n",
    "    for j in range(i+2,5):\n",
    "        print('*', end='')\n",
    "    print()"
   ]
  },
  {
   "cell_type": "code",
   "execution_count": null,
   "id": "f44f24ae",
   "metadata": {},
   "outputs": [],
   "source": []
  }
 ],
 "metadata": {
  "kernelspec": {
   "display_name": "Python 3",
   "language": "python",
   "name": "python3"
  },
  "language_info": {
   "codemirror_mode": {
    "name": "ipython",
    "version": 3
   },
   "file_extension": ".py",
   "mimetype": "text/x-python",
   "name": "python",
   "nbconvert_exporter": "python",
   "pygments_lexer": "ipython3",
   "version": "3.8.8"
  }
 },
 "nbformat": 4,
 "nbformat_minor": 5
}
