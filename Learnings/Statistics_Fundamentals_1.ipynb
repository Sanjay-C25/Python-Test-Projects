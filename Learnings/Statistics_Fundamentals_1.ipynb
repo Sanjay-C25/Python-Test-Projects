{
 "cells": [
  {
   "cell_type": "markdown",
   "id": "dcdc51d2",
   "metadata": {},
   "source": [
    "# Statistics Fundamentals in Python\n",
    "- YouTube Link: https://www.youtube.com/watch?v=cECVvmFOKFc&list=PLQOQSz2P_upS2TjIxF3aCC0Q7XnjzAbM9&index=4"
   ]
  },
  {
   "cell_type": "code",
   "execution_count": 3,
   "id": "2358f6ac",
   "metadata": {},
   "outputs": [],
   "source": [
    "import math\n",
    "import statistics as st"
   ]
  },
  {
   "cell_type": "code",
   "execution_count": 22,
   "id": "74726e95",
   "metadata": {},
   "outputs": [
    {
     "name": "stdout",
     "output_type": "stream",
     "text": [
      "numbers : [10, 10, 10, 10, 20, 20, 20, 20, 30, 40, 50, 60, 70, 80, 90, 1000, 100000, 20000000] \n"
     ]
    }
   ],
   "source": [
    "#numbers = list(range(10, 101, 10))\n",
    "#numbers = [10, 20, 30, 40, 50, 60, 70, 80, 90, 1000, 200000]\n",
    "numbers = [10, 10, 10, 10, 20, 20, 20, 20, 30, 40, 50, 60, 70, 80, 90, 1000, 100000, 20000000]\n",
    "print(f\"numbers : {numbers} \")"
   ]
  },
  {
   "cell_type": "code",
   "execution_count": 29,
   "id": "37f99660",
   "metadata": {},
   "outputs": [
    {
     "name": "stdout",
     "output_type": "stream",
     "text": [
      "1116752.2222222222\n",
      "1116752.2222222222\n"
     ]
    }
   ],
   "source": [
    "#mean\n",
    "print(sum(numbers)/len(numbers))\n",
    "print(st.mean(numbers))"
   ]
  },
  {
   "cell_type": "code",
   "execution_count": 27,
   "id": "ebc60753",
   "metadata": {},
   "outputs": [],
   "source": [
    "def calculate_mean(numbers):\n",
    "    # Calculate the sum of the numbers in the list\n",
    "    total = sum(numbers)\n",
    "\n",
    "    # Calculate the number of numbers in the list\n",
    "    num_numbers = len(numbers)\n",
    "\n",
    "    # Calculate the mean by dividing the total by the number of numbers\n",
    "    mean = total / num_numbers\n",
    "\n",
    "    return mean\n"
   ]
  },
  {
   "cell_type": "code",
   "execution_count": 28,
   "id": "82440915",
   "metadata": {},
   "outputs": [
    {
     "name": "stdout",
     "output_type": "stream",
     "text": [
      "1116752.2222222222\n"
     ]
    }
   ],
   "source": [
    "mean = calculate_mean(numbers)\n",
    "print(mean)"
   ]
  },
  {
   "cell_type": "code",
   "execution_count": 25,
   "id": "527828f0",
   "metadata": {},
   "outputs": [
    {
     "name": "stdout",
     "output_type": "stream",
     "text": [
      "35.0\n",
      "35.0\n"
     ]
    }
   ],
   "source": [
    "#median\n",
    "numbers.sort()\n",
    "if len(numbers)%2 == 0:\n",
    "    print((numbers[len(numbers) // 2] + numbers[len(numbers) // 2 - 1]) / 2)\n",
    "else:\n",
    "    print(numbers[(len(numbers) // 2)])\n",
    "print(st.median(numbers))"
   ]
  },
  {
   "cell_type": "code",
   "execution_count": 23,
   "id": "ebc61fe2",
   "metadata": {},
   "outputs": [],
   "source": [
    "def calculate_median(numbers):\n",
    "    # Sort the list of numbers in ascending order\n",
    "    sorted_numbers = sorted(numbers)\n",
    "\n",
    "    # Calculate the middle index of the list\n",
    "    middle_index = len(sorted_numbers) // 2\n",
    "\n",
    "    # If the list has an odd number of elements, return the middle element\n",
    "    if len(sorted_numbers) % 2 != 0:\n",
    "        return sorted_numbers[middle_index]\n",
    "\n",
    "    # If the list has an even number of elements, return the average of the middle two elements\n",
    "    else:\n",
    "        return (sorted_numbers[middle_index - 1] + sorted_numbers[middle_index]) / 2\n"
   ]
  },
  {
   "cell_type": "code",
   "execution_count": 24,
   "id": "a42095ac",
   "metadata": {},
   "outputs": [
    {
     "name": "stdout",
     "output_type": "stream",
     "text": [
      "35.0\n"
     ]
    }
   ],
   "source": [
    "median = calculate_median(numbers)\n",
    "print(median)"
   ]
  },
  {
   "cell_type": "code",
   "execution_count": 33,
   "id": "c6ae64bb",
   "metadata": {},
   "outputs": [
    {
     "name": "stdout",
     "output_type": "stream",
     "text": [
      "40\n",
      "30\n"
     ]
    }
   ],
   "source": [
    "# when len(numbers) is even\n",
    "print(st.median_high(numbers))\n",
    "print(st.median_low(numbers))"
   ]
  },
  {
   "cell_type": "code",
   "execution_count": 30,
   "id": "5264b11c",
   "metadata": {},
   "outputs": [
    {
     "name": "stdout",
     "output_type": "stream",
     "text": [
      "10\n",
      "10\n"
     ]
    }
   ],
   "source": [
    "#mode\n",
    "print(st.mode(numbers))\n",
    "print(max(set(numbers), key = numbers.count))"
   ]
  },
  {
   "cell_type": "code",
   "execution_count": 31,
   "id": "89e8765f",
   "metadata": {},
   "outputs": [],
   "source": [
    "def calculate_mode(numbers):\n",
    "    # Create an empty dictionary to store the frequency of each number\n",
    "    freq_dict = {}\n",
    "\n",
    "    # Loop through the list of numbers and count the frequency of each number\n",
    "    for num in numbers:\n",
    "        if num in freq_dict:\n",
    "            freq_dict[num] += 1\n",
    "        else:\n",
    "            freq_dict[num] = 1\n",
    "    #print(freq_dict)\n",
    "\n",
    "    # Find the mode(s) of the numbers\n",
    "    max_freq = max(freq_dict.values())\n",
    "    #print(max_freq)\n",
    "    mode = [num for num, freq in freq_dict.items() if freq == max_freq]\n",
    "\n",
    "    return mode"
   ]
  },
  {
   "cell_type": "code",
   "execution_count": 20,
   "id": "570006ca",
   "metadata": {},
   "outputs": [
    {
     "name": "stdout",
     "output_type": "stream",
     "text": [
      "[10, 20]\n"
     ]
    }
   ],
   "source": [
    "mode = calculate_mode(numbers)\n",
    "print(mode)"
   ]
  },
  {
   "cell_type": "code",
   "execution_count": 41,
   "id": "91d87f16",
   "metadata": {},
   "outputs": [
    {
     "name": "stdout",
     "output_type": "stream",
     "text": [
      "numbers1 : [0, 1, 2, 3, 10000, 20000, 30000]\n",
      "Mean : 8572.285714285714\n",
      "Variance : 147601906.23809522\n",
      "Std Dev : 12149.152490527693\n",
      "P Variance : 126515919.63265306\n",
      "P Std Dev : 11247.92957093229\n",
      "\n",
      "numbers2 : [8500, 8550, 8580, 8600]\n",
      "Mean : 8557.5\n",
      "Variance : 1891.6666666666667\n",
      "Std Dev : 43.493294502332965\n",
      "P Variance : 1418.75\n",
      "P Std Dev : 37.66629793329841\n"
     ]
    }
   ],
   "source": [
    "# Variance, Standard Deviation\n",
    "#numbers = [10, 10, 10, 10, 20, 30, 40, 50, 60, 70, 80, 90, 100000, 200000]\n",
    "numbers1 = [0, 1, 2, 3, 10000, 20000, 30000]\n",
    "print(f\"numbers1 : {numbers1}\")\n",
    "print(f\"Mean : {st.mean(numbers1)}\")\n",
    "print(f\"Variance : {st.variance(numbers1)}\")\n",
    "print(f\"Std Dev : {st.stdev(numbers1)}\")\n",
    "print(f\"P Variance : {st.pvariance(numbers1)}\")\n",
    "print(f\"P Std Dev : {st.pstdev(numbers1)}\")\n",
    "\n",
    "print(\"\")\n",
    "\n",
    "numbers2 = [8500, 8550, 8580, 8600]\n",
    "print(f\"numbers2 : {numbers2}\")\n",
    "print(f\"Mean : {st.mean(numbers2)}\")\n",
    "print(f\"Variance : {st.variance(numbers2)}\")\n",
    "print(f\"Std Dev : {st.stdev(numbers2)}\")\n",
    "print(f\"P Variance : {st.pvariance(numbers2)}\")\n",
    "print(f\"P Std Dev : {st.pstdev(numbers2)}\")"
   ]
  },
  {
   "cell_type": "code",
   "execution_count": 48,
   "id": "1353a55e",
   "metadata": {},
   "outputs": [
    {
     "name": "stdout",
     "output_type": "stream",
     "text": [
      "147601906.23809525\n",
      "12149.152490527693\n",
      "126515919.63265307\n",
      "11247.92957093229\n"
     ]
    }
   ],
   "source": [
    "# Variance and Std Dev Manual Calculation\n",
    "print(sum((x - st.mean(numbers1)) ** 2 for x in numbers1) / (len(numbers1) - 1))\n",
    "print(math.sqrt(sum((x - st.mean(numbers1)) ** 2 for x in numbers1) / (len(numbers1) - 1)))\n",
    "print(sum((x - st.mean(numbers1)) ** 2 for x in numbers1) / len(numbers1))\n",
    "print(math.sqrt(sum((x - st.mean(numbers1)) ** 2 for x in numbers1) / len(numbers1)))"
   ]
  },
  {
   "cell_type": "code",
   "execution_count": 50,
   "id": "385ff07f",
   "metadata": {},
   "outputs": [
    {
     "name": "stdout",
     "output_type": "stream",
     "text": [
      "0\n",
      "8557.333857700216\n"
     ]
    }
   ],
   "source": [
    "# Harmonic Mean -> more weightage for lower value in a list\n",
    "print(st.harmonic_mean(numbers1))\n",
    "print(st.harmonic_mean(numbers2))"
   ]
  },
  {
   "cell_type": "code",
   "execution_count": 53,
   "id": "ca88e805",
   "metadata": {},
   "outputs": [
    {
     "name": "stdout",
     "output_type": "stream",
     "text": [
      "0\n",
      "8557.333857700216\n"
     ]
    }
   ],
   "source": [
    "try:\n",
    "    print(len(numbers1) / sum(1 / x for x in numbers1))\n",
    "except:\n",
    "    print(0)\n",
    "print(len(numbers2) / sum(1 / x for x in numbers2))"
   ]
  },
  {
   "cell_type": "code",
   "execution_count": null,
   "id": "5348ed9b",
   "metadata": {},
   "outputs": [],
   "source": []
  }
 ],
 "metadata": {
  "kernelspec": {
   "display_name": "Python 3",
   "language": "python",
   "name": "python3"
  },
  "language_info": {
   "codemirror_mode": {
    "name": "ipython",
    "version": 3
   },
   "file_extension": ".py",
   "mimetype": "text/x-python",
   "name": "python",
   "nbconvert_exporter": "python",
   "pygments_lexer": "ipython3",
   "version": "3.8.8"
  }
 },
 "nbformat": 4,
 "nbformat_minor": 5
}
