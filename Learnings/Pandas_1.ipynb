{
 "cells": [
  {
   "cell_type": "markdown",
   "id": "80e7d3a6",
   "metadata": {},
   "source": [
    "# Make your Pandas code lightning fast\n",
    "- YouTube link : https://www.youtube.com/watch?v=SAFmrTnEHLg&list=PLQOQSz2P_upS2TjIxF3aCC0Q7XnjzAbM9&index=3"
   ]
  },
  {
   "cell_type": "markdown",
   "id": "1c187c00",
   "metadata": {},
   "source": [
    "## Import Modules and Linraries"
   ]
  },
  {
   "cell_type": "code",
   "execution_count": 3,
   "id": "1f062101",
   "metadata": {},
   "outputs": [],
   "source": [
    "import pandas as pd\n",
    "import numpy as np"
   ]
  },
  {
   "cell_type": "markdown",
   "id": "5fc480d3",
   "metadata": {},
   "source": [
    "## Create Datasets"
   ]
  },
  {
   "cell_type": "code",
   "execution_count": 8,
   "id": "28967ca4",
   "metadata": {},
   "outputs": [],
   "source": [
    "def get_data(size = 10_000):\n",
    "    df = pd.DataFrame()\n",
    "    #size = 10_000 # same as 10000\n",
    "    df['age'] = np.random.randint(0, 100, size)\n",
    "    df['time_in_bed'] = np.random.randint(0, 9, size)\n",
    "    df['pct_sleeping'] = np.random.rand(size)\n",
    "    df['favourite_food'] = np.random.choice(['pizza', 'taco', 'ice-cream'], size)\n",
    "    df['hate_food'] = np.random.choice(['broccoli', 'candy corn', 'eggs'], size)\n",
    "    #display(df.head())\n",
    "    return df"
   ]
  },
  {
   "cell_type": "code",
   "execution_count": 9,
   "id": "9e916f4c",
   "metadata": {},
   "outputs": [
    {
     "data": {
      "text/html": [
       "<div>\n",
       "<style scoped>\n",
       "    .dataframe tbody tr th:only-of-type {\n",
       "        vertical-align: middle;\n",
       "    }\n",
       "\n",
       "    .dataframe tbody tr th {\n",
       "        vertical-align: top;\n",
       "    }\n",
       "\n",
       "    .dataframe thead th {\n",
       "        text-align: right;\n",
       "    }\n",
       "</style>\n",
       "<table border=\"1\" class=\"dataframe\">\n",
       "  <thead>\n",
       "    <tr style=\"text-align: right;\">\n",
       "      <th></th>\n",
       "      <th>age</th>\n",
       "      <th>time_in_bed</th>\n",
       "      <th>pct_sleeping</th>\n",
       "      <th>favourite_food</th>\n",
       "      <th>hate_food</th>\n",
       "    </tr>\n",
       "  </thead>\n",
       "  <tbody>\n",
       "    <tr>\n",
       "      <th>0</th>\n",
       "      <td>23</td>\n",
       "      <td>1</td>\n",
       "      <td>0.230884</td>\n",
       "      <td>taco</td>\n",
       "      <td>eggs</td>\n",
       "    </tr>\n",
       "    <tr>\n",
       "      <th>1</th>\n",
       "      <td>98</td>\n",
       "      <td>1</td>\n",
       "      <td>0.645722</td>\n",
       "      <td>ice-cream</td>\n",
       "      <td>candy corn</td>\n",
       "    </tr>\n",
       "    <tr>\n",
       "      <th>2</th>\n",
       "      <td>65</td>\n",
       "      <td>6</td>\n",
       "      <td>0.785798</td>\n",
       "      <td>pizza</td>\n",
       "      <td>broccoli</td>\n",
       "    </tr>\n",
       "    <tr>\n",
       "      <th>3</th>\n",
       "      <td>80</td>\n",
       "      <td>3</td>\n",
       "      <td>0.094969</td>\n",
       "      <td>ice-cream</td>\n",
       "      <td>eggs</td>\n",
       "    </tr>\n",
       "    <tr>\n",
       "      <th>4</th>\n",
       "      <td>11</td>\n",
       "      <td>2</td>\n",
       "      <td>0.886876</td>\n",
       "      <td>ice-cream</td>\n",
       "      <td>candy corn</td>\n",
       "    </tr>\n",
       "    <tr>\n",
       "      <th>...</th>\n",
       "      <td>...</td>\n",
       "      <td>...</td>\n",
       "      <td>...</td>\n",
       "      <td>...</td>\n",
       "      <td>...</td>\n",
       "    </tr>\n",
       "    <tr>\n",
       "      <th>9995</th>\n",
       "      <td>27</td>\n",
       "      <td>2</td>\n",
       "      <td>0.928108</td>\n",
       "      <td>taco</td>\n",
       "      <td>eggs</td>\n",
       "    </tr>\n",
       "    <tr>\n",
       "      <th>9996</th>\n",
       "      <td>77</td>\n",
       "      <td>8</td>\n",
       "      <td>0.269588</td>\n",
       "      <td>ice-cream</td>\n",
       "      <td>candy corn</td>\n",
       "    </tr>\n",
       "    <tr>\n",
       "      <th>9997</th>\n",
       "      <td>21</td>\n",
       "      <td>7</td>\n",
       "      <td>0.499301</td>\n",
       "      <td>ice-cream</td>\n",
       "      <td>candy corn</td>\n",
       "    </tr>\n",
       "    <tr>\n",
       "      <th>9998</th>\n",
       "      <td>38</td>\n",
       "      <td>5</td>\n",
       "      <td>0.728395</td>\n",
       "      <td>pizza</td>\n",
       "      <td>broccoli</td>\n",
       "    </tr>\n",
       "    <tr>\n",
       "      <th>9999</th>\n",
       "      <td>24</td>\n",
       "      <td>2</td>\n",
       "      <td>0.142912</td>\n",
       "      <td>pizza</td>\n",
       "      <td>candy corn</td>\n",
       "    </tr>\n",
       "  </tbody>\n",
       "</table>\n",
       "<p>10000 rows × 5 columns</p>\n",
       "</div>"
      ],
      "text/plain": [
       "      age  time_in_bed  pct_sleeping favourite_food   hate_food\n",
       "0      23            1      0.230884           taco        eggs\n",
       "1      98            1      0.645722      ice-cream  candy corn\n",
       "2      65            6      0.785798          pizza    broccoli\n",
       "3      80            3      0.094969      ice-cream        eggs\n",
       "4      11            2      0.886876      ice-cream  candy corn\n",
       "...   ...          ...           ...            ...         ...\n",
       "9995   27            2      0.928108           taco        eggs\n",
       "9996   77            8      0.269588      ice-cream  candy corn\n",
       "9997   21            7      0.499301      ice-cream  candy corn\n",
       "9998   38            5      0.728395          pizza    broccoli\n",
       "9999   24            2      0.142912          pizza  candy corn\n",
       "\n",
       "[10000 rows x 5 columns]"
      ]
     },
     "execution_count": 9,
     "metadata": {},
     "output_type": "execute_result"
    }
   ],
   "source": [
    "get_data()"
   ]
  },
  {
   "cell_type": "markdown",
   "id": "18ba28e0",
   "metadata": {},
   "source": [
    "## The Problem.\n",
    "Reward calculation:\n",
    "- If they were in bed for more than 5 hours AND they were sleeping for more than 50% we give them their fav food\n",
    "- Otherwise we give them their hate food\n",
    "- If they are over r90 years old give their favourite food regardless"
   ]
  },
  {
   "cell_type": "code",
   "execution_count": 17,
   "id": "5b71527f",
   "metadata": {},
   "outputs": [],
   "source": [
    "def reward_calc(row):\n",
    "    if row['age'] >= 90:\n",
    "        return row['favourite_food']\n",
    "    if (row['time_in_bed'] > 5) & (row['pct_sleeping'] > 0.5):\n",
    "        return row['favourite_food']\n",
    "    return row['hate_food']"
   ]
  },
  {
   "cell_type": "markdown",
   "id": "43193105",
   "metadata": {},
   "source": [
    "### Level 1 - Loop"
   ]
  },
  {
   "cell_type": "code",
   "execution_count": 18,
   "id": "c91d2a00",
   "metadata": {},
   "outputs": [
    {
     "name": "stdout",
     "output_type": "stream",
     "text": [
      "2.01 s ± 43.3 ms per loop (mean ± std. dev. of 7 runs, 1 loop each)\n"
     ]
    }
   ],
   "source": [
    "%%timeit\n",
    "df = get_data()\n",
    "for index, row in df.iterrows():\n",
    "    df.loc[index, 'reward'] = reward_calc(row)"
   ]
  },
  {
   "cell_type": "markdown",
   "id": "efccee88",
   "metadata": {},
   "source": [
    "### Level 2 - Apply"
   ]
  },
  {
   "cell_type": "code",
   "execution_count": 19,
   "id": "ccb2af23",
   "metadata": {},
   "outputs": [
    {
     "name": "stdout",
     "output_type": "stream",
     "text": [
      "103 ms ± 950 µs per loop (mean ± std. dev. of 7 runs, 10 loops each)\n"
     ]
    }
   ],
   "source": [
    "%%timeit\n",
    "df = get_data()\n",
    "df['reward'] = df.apply(reward_calc, axis=1)"
   ]
  },
  {
   "cell_type": "markdown",
   "id": "61356411",
   "metadata": {},
   "source": [
    "### Level 3 - Vectorized"
   ]
  },
  {
   "cell_type": "code",
   "execution_count": 20,
   "id": "e34982d0",
   "metadata": {},
   "outputs": [
    {
     "name": "stdout",
     "output_type": "stream",
     "text": [
      "4.55 ms ± 83.7 µs per loop (mean ± std. dev. of 7 runs, 100 loops each)\n"
     ]
    }
   ],
   "source": [
    "%%timeit\n",
    "df = get_data()\n",
    "df['reward'] = df['hate_food']\n",
    "df.loc[((df['pct_sleeping'] > 0.5) & (df['time_in_bed'] > 5)) |\n",
    "      (df['age'] > 90), 'reward'] = df['favourite_food']"
   ]
  },
  {
   "cell_type": "markdown",
   "id": "7c40e3be",
   "metadata": {},
   "source": [
    "## Plot Differences"
   ]
  },
  {
   "cell_type": "code",
   "execution_count": 21,
   "id": "798325af",
   "metadata": {},
   "outputs": [
    {
     "data": {
      "text/html": [
       "<div>\n",
       "<style scoped>\n",
       "    .dataframe tbody tr th:only-of-type {\n",
       "        vertical-align: middle;\n",
       "    }\n",
       "\n",
       "    .dataframe tbody tr th {\n",
       "        vertical-align: top;\n",
       "    }\n",
       "\n",
       "    .dataframe thead th {\n",
       "        text-align: right;\n",
       "    }\n",
       "</style>\n",
       "<table border=\"1\" class=\"dataframe\">\n",
       "  <thead>\n",
       "    <tr style=\"text-align: right;\">\n",
       "      <th></th>\n",
       "      <th>type</th>\n",
       "      <th>mean</th>\n",
       "      <th>std</th>\n",
       "    </tr>\n",
       "  </thead>\n",
       "  <tbody>\n",
       "    <tr>\n",
       "      <th>0</th>\n",
       "      <td>loop</td>\n",
       "      <td>2010.00</td>\n",
       "      <td>43300.0</td>\n",
       "    </tr>\n",
       "    <tr>\n",
       "      <th>1</th>\n",
       "      <td>apply</td>\n",
       "      <td>103.00</td>\n",
       "      <td>950.0</td>\n",
       "    </tr>\n",
       "    <tr>\n",
       "      <th>2</th>\n",
       "      <td>vectorized</td>\n",
       "      <td>4.55</td>\n",
       "      <td>83.7</td>\n",
       "    </tr>\n",
       "  </tbody>\n",
       "</table>\n",
       "</div>"
      ],
      "text/plain": [
       "         type     mean      std\n",
       "0        loop  2010.00  43300.0\n",
       "1       apply   103.00    950.0\n",
       "2  vectorized     4.55     83.7"
      ]
     },
     "execution_count": 21,
     "metadata": {},
     "output_type": "execute_result"
    }
   ],
   "source": [
    "results = pd.DataFrame(\n",
    "    [\n",
    "        [\"loop\", 2010, 43300],\n",
    "        [\"apply\", 103, 950],\n",
    "        [\"vectorized\", 4.55, 83.7],\n",
    "    ],\n",
    "    columns = [\"type\", \"mean\", \"std\"]\n",
    ")\n",
    "results"
   ]
  },
  {
   "cell_type": "code",
   "execution_count": 22,
   "id": "bd20b6fb",
   "metadata": {},
   "outputs": [
    {
     "data": {
      "text/plain": [
       "<AxesSubplot:title={'center':'Time to Run Reward Calc'}, xlabel='type'>"
      ]
     },
     "execution_count": 22,
     "metadata": {},
     "output_type": "execute_result"
    },
    {
     "data": {
      "image/png": "[encoded data removed]",
      "text/plain": [
       "<Figure size 432x288 with 1 Axes>"
      ]
     },
     "metadata": {
      "needs_background": "light"
     },
     "output_type": "display_data"
    }
   ],
   "source": [
    "results.set_index('type')['mean'].plot(kind = 'bar', title = 'Time to Run Reward Calc')\n"
   ]
  },
  {
   "cell_type": "code",
   "execution_count": null,
   "id": "d72b3d06",
   "metadata": {},
   "outputs": [],
   "source": []
  }
 ],
 "metadata": {
  "kernelspec": {
   "display_name": "Python 3",
   "language": "python",
   "name": "python3"
  },
  "language_info": {
   "codemirror_mode": {
    "name": "ipython",
    "version": 3
   },
   "file_extension": ".py",
   "mimetype": "text/x-python",
   "name": "python",
   "nbconvert_exporter": "python",
   "pygments_lexer": "ipython3",
   "version": "3.8.8"
  }
 },
 "nbformat": 4,
 "nbformat_minor": 5
}
