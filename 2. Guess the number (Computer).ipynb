{
 "cells": [
  {
   "cell_type": "code",
   "execution_count": 1,
   "id": "9dd38755",
   "metadata": {},
   "outputs": [],
   "source": [
    "import random"
   ]
  },
  {
   "cell_type": "code",
   "execution_count": 12,
   "id": "51b6331b",
   "metadata": {},
   "outputs": [],
   "source": [
    "def guess(x):\n",
    "    random_number = random.randint(1, x)\n",
    "    #print(f\"random_number : {random_number} \")\n",
    "    guess_number = 0\n",
    "    while(guess_number != random_number):\n",
    "        guess_number = int(input(f\"Guess a number between 1 and {x}: \"))\n",
    "        #print(guess_number)\n",
    "        if(guess_number < random_number):\n",
    "            print('Sorry, guess again. Too low.')\n",
    "        elif(guess_number > random_number):\n",
    "            print('Sorry, guess again. Too high.')\n",
    "    print(f'Yay, congrats! You have guessed the number {random_number} correctly !!.')\n",
    "            \n"
   ]
  },
  {
   "cell_type": "code",
   "execution_count": 13,
   "id": "5f5708dd",
   "metadata": {},
   "outputs": [
    {
     "name": "stdout",
     "output_type": "stream",
     "text": [
      "Guess a number between 1 and 10: 5\n",
      "Yay, congrats! You have guessed the number 5.\n"
     ]
    }
   ],
   "source": [
    "guess(10)"
   ]
  },
  {
   "cell_type": "code",
   "execution_count": null,
   "id": "042d2dd9",
   "metadata": {},
   "outputs": [],
   "source": []
  }
 ],
 "metadata": {
  "kernelspec": {
   "display_name": "Python 3",
   "language": "python",
   "name": "python3"
  },
  "language_info": {
   "codemirror_mode": {
    "name": "ipython",
    "version": 3
   },
   "file_extension": ".py",
   "mimetype": "text/x-python",
   "name": "python",
   "nbconvert_exporter": "python",
   "pygments_lexer": "ipython3",
   "version": "3.8.8"
  }
 },
 "nbformat": 4,
 "nbformat_minor": 5
}
