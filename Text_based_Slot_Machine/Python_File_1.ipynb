{
 "cells": [
  {
   "cell_type": "code",
   "execution_count": 1,
   "id": "87924650",
   "metadata": {},
   "outputs": [
    {
     "name": "stdout",
     "output_type": "stream",
     "text": [
      "What would you like to deposit? $ 100\n",
      "Current Balance is : $100\n",
      "Press enter to spin or q to quit: \n",
      "Enter the number of lines to bet on (1 - 3)? 4\n",
      "Enter a valid number of lines\n",
      "Enter the number of lines to bet on (1 - 3)? 3\n",
      "What would you like to bet on each line? $ 10\n",
      "You are betting $10 on 3 lines. Total bet is equal to: $30\n",
      "D | B | D\n",
      "C | D | D\n",
      "C | B | A\n",
      "You won $0.\n",
      "Current Balance is : $70\n",
      "Press enter to spin or q to quit: \n",
      "Enter the number of lines to bet on (1 - 3)? 3\n",
      "What would you like to bet on each line? $ 10\n",
      "You are betting $10 on 3 lines. Total bet is equal to: $30\n",
      "D | D | D\n",
      "C | C | D\n",
      "A | B | D\n",
      "You won $20.\n",
      "You won on lines:  1\n",
      "Current Balance is : $60\n",
      "Press enter to spin or q to quit: \n",
      "Enter the number of lines to bet on (1 - 3)? 3\n",
      "What would you like to bet on each line? $ 10\n",
      "You are betting $10 on 3 lines. Total bet is equal to: $30\n",
      "C | A | B\n",
      "C | D | A\n",
      "D | C | C\n",
      "You won $0.\n",
      "Current Balance is : $30\n",
      "Press enter to spin or q to quit: \n",
      "Enter the number of lines to bet on (1 - 3)? 3\n",
      "What would you like to bet on each line? $ 10\n",
      "You are betting $10 on 3 lines. Total bet is equal to: $30\n",
      "D | C | B\n",
      "D | B | B\n",
      "C | D | C\n",
      "You won $0.\n",
      "Current Balance is : $0\n",
      "Press enter to deposit more or q to quit: \n",
      "What would you like to deposit? $ 10\n",
      "Current Balance is : $10\n",
      "Press enter to spin or q to quit: \n",
      "Enter the number of lines to bet on (1 - 3)? 2\n",
      "What would you like to bet on each line? $ 5\n",
      "You are betting $5 on 2 lines. Total bet is equal to: $10\n",
      "A | A | D\n",
      "C | D | D\n",
      "B | A | B\n",
      "You won $0.\n",
      "Current Balance is : $0\n",
      "Press enter to deposit more or q to quit: q\n",
      "You left with $0\n"
     ]
    }
   ],
   "source": [
    "%run main.py"
   ]
  },
  {
   "cell_type": "code",
   "execution_count": null,
   "id": "73197e3e",
   "metadata": {},
   "outputs": [],
   "source": [
    "#This is just a test comment"
   ]
  }
 ],
 "metadata": {
  "kernelspec": {
   "display_name": "Python 3",
   "language": "python",
   "name": "python3"
  },
  "language_info": {
   "codemirror_mode": {
    "name": "ipython",
    "version": 3
   },
   "file_extension": ".py",
   "mimetype": "text/x-python",
   "name": "python",
   "nbconvert_exporter": "python",
   "pygments_lexer": "ipython3",
   "version": "3.8.8"
  }
 },
 "nbformat": 4,
 "nbformat_minor": 5
}
