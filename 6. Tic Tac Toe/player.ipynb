{
 "cells": [
  {
   "cell_type": "code",
   "execution_count": 2,
   "id": "33af0d19",
   "metadata": {},
   "outputs": [],
   "source": [
    "import math\n",
    "import random"
   ]
  },
  {
   "cell_type": "code",
   "execution_count": 4,
   "id": "a3aec0d0",
   "metadata": {},
   "outputs": [],
   "source": []
  },
  {
   "cell_type": "code",
   "execution_count": 6,
   "id": "99031d54",
   "metadata": {},
   "outputs": [],
   "source": [
    "class Player:\n",
    "    def __init__(self, letter):\n",
    "        # letter is x or o\n",
    "        self.letter = letter\n",
    "        \n",
    "    # we want all players to get their next move given a game\n",
    "    def get_move(self, game):\n",
    "        pass\n",
    "    \n",
    "class RandomComputerPlayer(Player):\n",
    "    def __init__(self,letter):\n",
    "        super().__init__(letter)\n",
    "        \n",
    "    def get_move(self, game):\n",
    "        # get a random calid spot for our next move\n",
    "        square = random.choice(game.available_moves())\n",
    "        return square\n",
    "    \n",
    "class HumanPlayer(Player):\n",
    "    def __init__(self, letter):\n",
    "        super().__init__(letter)\n",
    "        \n",
    "    def get_move(self, game):\n",
    "        valid_square = False\n",
    "        val = None\n",
    "        while not valid_square:\n",
    "            square = input(self.letter + '\\'s turn. Input move (0-8):')\n",
    "            # we're going to check that this is a correct value by trying to cast\n",
    "            # it to an integer, and if it's not, then we say its invalid\n",
    "            # if that spot is not available on the board, we also say its invalid\n",
    "            try:\n",
    "                val = int(square)\n",
    "                if val not in game.available_moves():\n",
    "                    raise ValueError\n",
    "                valid_square = True # if these are successful, then yay!\n",
    "            except ValueError:\n",
    "                print('Invalid square. Try again.')\n",
    "        return val\n",
    "                \n",
    "        \n",
    "    \n"
   ]
  },
  {
   "cell_type": "code",
   "execution_count": null,
   "id": "84d7772f",
   "metadata": {},
   "outputs": [],
   "source": []
  }
 ],
 "metadata": {
  "kernelspec": {
   "display_name": "Python 3",
   "language": "python",
   "name": "python3"
  },
  "language_info": {
   "codemirror_mode": {
    "name": "ipython",
    "version": 3
   },
   "file_extension": ".py",
   "mimetype": "text/x-python",
   "name": "python",
   "nbconvert_exporter": "python",
   "pygments_lexer": "ipython3",
   "version": "3.8.8"
  }
 },
 "nbformat": 4,
 "nbformat_minor": 5
}
